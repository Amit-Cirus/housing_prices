{
 "cells": [
  {
   "cell_type": "code",
   "id": "initial_id",
   "metadata": {
    "collapsed": true
   },
   "source": [
    "import numpy as np\n",
    "import pandas as pd\n",
    "import matplotlib.pyplot as plt"
   ],
   "outputs": [],
   "execution_count": null
  },
  {
   "metadata": {},
   "cell_type": "code",
   "source": [
    "data = pd.read_csv('train.csv', sep=',')\n",
    "data.head()"
   ],
   "id": "1172513dfef7b67a",
   "outputs": [],
   "execution_count": null
  },
  {
   "metadata": {},
   "cell_type": "code",
   "source": "data.shape",
   "id": "206cd159361253c",
   "outputs": [],
   "execution_count": null
  },
  {
   "metadata": {},
   "cell_type": "code",
   "source": [
    "df_nulls = pd.Series(data.isnull().sum(),name='nulls').to_frame()\n",
    "df_nulls['%'] = ((df_nulls['nulls'] / data.shape[0]) * 100).round(2)\n",
    "df_nulls.sort_values(by='%', ascending=False, inplace=True)\n",
    "df_nulls"
   ],
   "id": "1e0d7f2a2d575acf",
   "outputs": [],
   "execution_count": null
  },
  {
   "metadata": {},
   "cell_type": "code",
   "source": [
    "#poolQC variable\n",
    "data['PoolQC'] = data['PoolQC'].fillna(\"No Pool\")\n",
    "\n",
    "#MiscFeature variable\n",
    "data['MiscFeature'] = data['MiscFeature'].fillna(\"None\")\n",
    "\n",
    "#Alley variable\n",
    "data['Alley'] = data['Alley'].fillna(\"No alley access\")\n",
    "\n",
    "#Fence variable\n",
    "data['Fence'] = data['Fence'].fillna(\"No Fence\")\n",
    "\n",
    "#MasVnrType variable\n",
    "data['MasVnrType'] = data['MasVnrType'].fillna(\"None\")\n",
    "\n",
    "#FireplaceQu\n",
    "data['FireplaceQu'] = data['FireplaceQu'].fillna(\"No Fireplace\")"
   ],
   "id": "a8378c74d0ff590c",
   "outputs": [],
   "execution_count": null
  },
  {
   "metadata": {},
   "cell_type": "code",
   "source": "data.drop(columns='Id', inplace=True)",
   "id": "fafc4a9313b211e0",
   "outputs": [],
   "execution_count": null
  },
  {
   "metadata": {},
   "cell_type": "code",
   "source": [
    "numeric_columns = data.select_dtypes(include=[np.number]).columns.tolist()\n",
    "categorical_columns = data.select_dtypes(exclude=[np.number]).columns.tolist()"
   ],
   "id": "8b2b4677f605d494",
   "outputs": [],
   "execution_count": null
  },
  {
   "metadata": {},
   "cell_type": "markdown",
   "source": "# numeric columns operations",
   "id": "799342a723c897c4"
  },
  {
   "metadata": {},
   "cell_type": "code",
   "source": "data.select_dtypes(include=[np.number]).describe(include='all')",
   "id": "ab5921c0870530d6",
   "outputs": [],
   "execution_count": null
  },
  {
   "metadata": {},
   "cell_type": "code",
   "source": [
    "threshold = 10\n",
    "categorical_like = [col for col in data.select_dtypes(include=\"number\").columns\n",
    "                    if data[col].nunique() < threshold]\n",
    "print(categorical_like)\n",
    "for col in categorical_like:\n",
    "    data[col] = data[col].astype(\"category\")\n",
    "\n",
    "numeric_columns = [col for col in numeric_columns if col not in categorical_like]\n",
    "categorical_columns.extend(categorical_like)"
   ],
   "id": "25eb72a4bd919b8e",
   "outputs": [],
   "execution_count": null
  },
  {
   "metadata": {},
   "cell_type": "code",
   "source": [
    "unique_counts = data[numeric_columns].nunique().to_frame(name=\"n_uniques\")\n",
    "unique_counts"
   ],
   "id": "3d38e7c0522d288d",
   "outputs": [],
   "execution_count": null
  },
  {
   "metadata": {},
   "cell_type": "code",
   "source": [
    "data[numeric_columns].hist(figsize=(15, 12), bins=30, edgecolor=\"black\")\n",
    "plt.tight_layout()\n",
    "plt.show()"
   ],
   "id": "cafdbca70878bc3a",
   "outputs": [],
   "execution_count": null
  },
  {
   "metadata": {},
   "cell_type": "code",
   "source": [
    "numeric_nan_frame = pd.Series(data[numeric_columns].isna().sum(),name='num_Nan').to_frame()\n",
    "numeric_nan_frame = numeric_nan_frame[numeric_nan_frame[\"num_Nan\"] > 0]\n",
    "numeric_nan_frame"
   ],
   "id": "bf289a542779dcef",
   "outputs": [],
   "execution_count": null
  },
  {
   "metadata": {},
   "cell_type": "code",
   "source": [
    "data[numeric_nan_frame.index].hist(figsize=(8, 5), bins=30, edgecolor=\"black\")\n",
    "plt.tight_layout()\n",
    "plt.show()"
   ],
   "id": "2fed6712ff40ac42",
   "outputs": [],
   "execution_count": null
  },
  {
   "metadata": {},
   "cell_type": "code",
   "source": [
    "data['GarageYrBlt'].replace(np.nan,data['GarageYrBlt'].median,inplace=True)\n",
    "data['MasVnrArea'].replace(np.nan,data['MasVnrArea'].median,inplace=True)\n",
    "data['LotFrontage'].replace(np.nan,data['LotFrontage'].median,inplace=True)"
   ],
   "id": "c7f1b73b7074497b",
   "outputs": [],
   "execution_count": null
  },
  {
   "metadata": {},
   "cell_type": "markdown",
   "source": "# categorical columns operations",
   "id": "71f60985091ea458"
  },
  {
   "metadata": {},
   "cell_type": "code",
   "source": "print(categorical_columns)",
   "id": "810d8c42b06adeb5",
   "outputs": [],
   "execution_count": null
  },
  {
   "metadata": {},
   "cell_type": "code",
   "source": [
    "unique_counts = data[categorical_columns].nunique().to_frame(name=\"n_uniques\")\n",
    "unique_counts"
   ],
   "id": "6844c0da98e7f9cf",
   "outputs": [],
   "execution_count": null
  }
 ],
 "metadata": {
  "kernelspec": {
   "display_name": "Python 3",
   "language": "python",
   "name": "python3"
  },
  "language_info": {
   "codemirror_mode": {
    "name": "ipython",
    "version": 2
   },
   "file_extension": ".py",
   "mimetype": "text/x-python",
   "name": "python",
   "nbconvert_exporter": "python",
   "pygments_lexer": "ipython2",
   "version": "2.7.6"
  }
 },
 "nbformat": 4,
 "nbformat_minor": 5
}
